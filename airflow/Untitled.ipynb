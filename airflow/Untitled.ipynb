{
 "cells": [
  {
   "cell_type": "code",
   "execution_count": 1,
   "id": "24c7ba1f-a8ef-4615-a042-2a2629eb15cd",
   "metadata": {},
   "outputs": [],
   "source": [
    "import praw\n",
    "\n",
    "reddit = praw.Reddit(\n",
    "    client_id=\"3-APC6hiy_zHlA1SxaDSAQ\",\n",
    "    client_secret=\"mQbcLkYwee05KjNnXrXV7i5gXbcukw\",\n",
    "    password=\"Gr8sixhonour!\",\n",
    "    user_agent=\"testscript by u/silverflintlock\",\n",
    "    username=\"silverflintlock\",\n",
    ")"
   ]
  },
  {
   "cell_type": "code",
   "execution_count": 3,
   "id": "616dc100-c5fe-4543-84d1-791cf39f7f15",
   "metadata": {},
   "outputs": [
    {
     "data": {
      "text/plain": [
       "Redditor(name='silverflintlock')"
      ]
     },
     "execution_count": 3,
     "metadata": {},
     "output_type": "execute_result"
    }
   ],
   "source": [
    "reddit.user.me()"
   ]
  },
  {
   "cell_type": "code",
   "execution_count": 54,
   "id": "c117e71d-2fd2-4427-a6bd-93bc7489385a",
   "metadata": {},
   "outputs": [
    {
     "data": {
      "text/plain": [
       "datetime.datetime(2018, 1, 1, 0, 0)"
      ]
     },
     "execution_count": 54,
     "metadata": {},
     "output_type": "execute_result"
    }
   ],
   "source": [
    "curr.astimezone().replace(tzinfo = None)"
   ]
  },
  {
   "cell_type": "code",
   "execution_count": 49,
   "id": "2eeec636-8cad-4a5f-bbdd-a61df9e74776",
   "metadata": {},
   "outputs": [],
   "source": [
    "import datetime\n",
    "curr = datetime.datetime.fromisoformat(\"2018-01-01\")\n",
    "pre = curr - datetime.timedelta(hours = 1)"
   ]
  },
  {
   "cell_type": "code",
   "execution_count": 5,
   "id": "be0c7f4e-0124-450b-bfd2-c553384d65d2",
   "metadata": {},
   "outputs": [],
   "source": [
    "import pandas as pd"
   ]
  },
  {
   "cell_type": "code",
   "execution_count": 45,
   "id": "1216d10b-d581-4807-b7c3-c6cfcc6d287c",
   "metadata": {},
   "outputs": [],
   "source": [
    "team = \"Nets\"\n",
    "sr = \"GoNets\"\n",
    "\n",
    "subreddit = reddit.subreddit(sr)\n",
    "\n",
    "# Get the latest posts in the subreddit within the current hour\n",
    "latest_posts = subreddit.comments(limit = 500)\n",
    "\n",
    "teams_df = pd.DataFrame()\n",
    "\n",
    "for post in latest_posts:\n",
    "    df = pd.DataFrame({\n",
    "        \"created_timestamp\": [datetime.datetime.fromtimestamp(\n",
    "            post.created_utc\n",
    "        )],\n",
    "        \"team\": [team],\n",
    "        \"subreddit\": [subreddit.],\n",
    "        \"score\": [post.score],\n",
    "        \"body\": [post.body],\n",
    "        \"controversiality\": [post.controversiality]\n",
    "     }, index=None)\n",
    "    \n",
    "    teams_df = pd.concat([teams_df, df])\n",
    "    "
   ]
  },
  {
   "cell_type": "code",
   "execution_count": 46,
   "id": "7a4e56cb-680d-439d-83b1-59b3b9e6e055",
   "metadata": {},
   "outputs": [
    {
     "data": {
      "text/html": [
       "<div>\n",
       "<style scoped>\n",
       "    .dataframe tbody tr th:only-of-type {\n",
       "        vertical-align: middle;\n",
       "    }\n",
       "\n",
       "    .dataframe tbody tr th {\n",
       "        vertical-align: top;\n",
       "    }\n",
       "\n",
       "    .dataframe thead th {\n",
       "        text-align: right;\n",
       "    }\n",
       "</style>\n",
       "<table border=\"1\" class=\"dataframe\">\n",
       "  <thead>\n",
       "    <tr style=\"text-align: right;\">\n",
       "      <th></th>\n",
       "      <th>created_timestamp</th>\n",
       "      <th>team</th>\n",
       "      <th>subreddit</th>\n",
       "      <th>score</th>\n",
       "      <th>body</th>\n",
       "      <th>controversiality</th>\n",
       "    </tr>\n",
       "  </thead>\n",
       "  <tbody>\n",
       "    <tr>\n",
       "      <th>0</th>\n",
       "      <td>2023-05-09 19:17:09</td>\n",
       "      <td>Nets</td>\n",
       "      <td>t5_2sro2</td>\n",
       "      <td>1</td>\n",
       "      <td>Okay</td>\n",
       "      <td>0</td>\n",
       "    </tr>\n",
       "    <tr>\n",
       "      <th>0</th>\n",
       "      <td>2023-05-09 19:15:50</td>\n",
       "      <td>Nets</td>\n",
       "      <td>t5_2sro2</td>\n",
       "      <td>1</td>\n",
       "      <td>Fletcher doubling down. Actually copped a blow...</td>\n",
       "      <td>0</td>\n",
       "    </tr>\n",
       "    <tr>\n",
       "      <th>0</th>\n",
       "      <td>2023-05-09 19:12:50</td>\n",
       "      <td>Nets</td>\n",
       "      <td>t5_2sro2</td>\n",
       "      <td>1</td>\n",
       "      <td>What’re you gonna do, forgive me? Fuckin soft ...</td>\n",
       "      <td>0</td>\n",
       "    </tr>\n",
       "    <tr>\n",
       "      <th>0</th>\n",
       "      <td>2023-05-09 19:11:31</td>\n",
       "      <td>Nets</td>\n",
       "      <td>t5_2sro2</td>\n",
       "      <td>1</td>\n",
       "      <td>Go for it my boy. Hey you could have apologise...</td>\n",
       "      <td>0</td>\n",
       "    </tr>\n",
       "    <tr>\n",
       "      <th>0</th>\n",
       "      <td>2023-05-09 19:09:57</td>\n",
       "      <td>Nets</td>\n",
       "      <td>t5_2sro2</td>\n",
       "      <td>1</td>\n",
       "      <td>Wow, you’re really digging! Hahaha ahhh look w...</td>\n",
       "      <td>0</td>\n",
       "    </tr>\n",
       "    <tr>\n",
       "      <th>...</th>\n",
       "      <td>...</td>\n",
       "      <td>...</td>\n",
       "      <td>...</td>\n",
       "      <td>...</td>\n",
       "      <td>...</td>\n",
       "      <td>...</td>\n",
       "    </tr>\n",
       "    <tr>\n",
       "      <th>0</th>\n",
       "      <td>2023-05-07 14:08:40</td>\n",
       "      <td>Nets</td>\n",
       "      <td>t5_2sro2</td>\n",
       "      <td>21</td>\n",
       "      <td>We owe the 2024 and 2026 picks to Houston, als...</td>\n",
       "      <td>0</td>\n",
       "    </tr>\n",
       "    <tr>\n",
       "      <th>0</th>\n",
       "      <td>2023-05-07 14:05:59</td>\n",
       "      <td>Nets</td>\n",
       "      <td>t5_2sro2</td>\n",
       "      <td>1</td>\n",
       "      <td>Been asking for this jersey for years, at this...</td>\n",
       "      <td>0</td>\n",
       "    </tr>\n",
       "    <tr>\n",
       "      <th>0</th>\n",
       "      <td>2023-05-07 14:03:49</td>\n",
       "      <td>Nets</td>\n",
       "      <td>t5_2sro2</td>\n",
       "      <td>15</td>\n",
       "      <td>Staten Island 🙃 (Uncle was a NY Nets fan)</td>\n",
       "      <td>0</td>\n",
       "    </tr>\n",
       "    <tr>\n",
       "      <th>0</th>\n",
       "      <td>2023-05-07 13:59:09</td>\n",
       "      <td>Nets</td>\n",
       "      <td>t5_2sro2</td>\n",
       "      <td>3</td>\n",
       "      <td>I believe we have 4 pho + a swap, 1 dal, 1 Phi...</td>\n",
       "      <td>0</td>\n",
       "    </tr>\n",
       "    <tr>\n",
       "      <th>0</th>\n",
       "      <td>2023-05-07 13:57:13</td>\n",
       "      <td>Nets</td>\n",
       "      <td>t5_2sro2</td>\n",
       "      <td>11</td>\n",
       "      <td>Looking back, should we have traded the pick t...</td>\n",
       "      <td>0</td>\n",
       "    </tr>\n",
       "  </tbody>\n",
       "</table>\n",
       "<p>500 rows × 6 columns</p>\n",
       "</div>"
      ],
      "text/plain": [
       "     created_timestamp  team subreddit  score  \\\n",
       "0  2023-05-09 19:17:09  Nets  t5_2sro2      1   \n",
       "0  2023-05-09 19:15:50  Nets  t5_2sro2      1   \n",
       "0  2023-05-09 19:12:50  Nets  t5_2sro2      1   \n",
       "0  2023-05-09 19:11:31  Nets  t5_2sro2      1   \n",
       "0  2023-05-09 19:09:57  Nets  t5_2sro2      1   \n",
       "..                 ...   ...       ...    ...   \n",
       "0  2023-05-07 14:08:40  Nets  t5_2sro2     21   \n",
       "0  2023-05-07 14:05:59  Nets  t5_2sro2      1   \n",
       "0  2023-05-07 14:03:49  Nets  t5_2sro2     15   \n",
       "0  2023-05-07 13:59:09  Nets  t5_2sro2      3   \n",
       "0  2023-05-07 13:57:13  Nets  t5_2sro2     11   \n",
       "\n",
       "                                                 body  controversiality  \n",
       "0                                                Okay                 0  \n",
       "0   Fletcher doubling down. Actually copped a blow...                 0  \n",
       "0   What’re you gonna do, forgive me? Fuckin soft ...                 0  \n",
       "0   Go for it my boy. Hey you could have apologise...                 0  \n",
       "0   Wow, you’re really digging! Hahaha ahhh look w...                 0  \n",
       "..                                                ...               ...  \n",
       "0   We owe the 2024 and 2026 picks to Houston, als...                 0  \n",
       "0   Been asking for this jersey for years, at this...                 0  \n",
       "0           Staten Island 🙃 (Uncle was a NY Nets fan)                 0  \n",
       "0   I believe we have 4 pho + a swap, 1 dal, 1 Phi...                 0  \n",
       "0   Looking back, should we have traded the pick t...                 0  \n",
       "\n",
       "[500 rows x 6 columns]"
      ]
     },
     "execution_count": 46,
     "metadata": {},
     "output_type": "execute_result"
    }
   ],
   "source": [
    "teams_df"
   ]
  },
  {
   "cell_type": "code",
   "execution_count": null,
   "id": "dbcd39ff-c853-479e-89c4-396e6db18877",
   "metadata": {},
   "outputs": [],
   "source": []
  },
  {
   "cell_type": "code",
   "execution_count": null,
   "id": "d42521de-55d8-409b-86e2-fc62519e6061",
   "metadata": {},
   "outputs": [],
   "source": []
  },
  {
   "cell_type": "code",
   "execution_count": null,
   "id": "09464a1e-10c1-4acc-bcba-2958847b17ba",
   "metadata": {},
   "outputs": [],
   "source": []
  }
 ],
 "metadata": {
  "kernelspec": {
   "display_name": "Python 3 (ipykernel)",
   "language": "python",
   "name": "python3"
  },
  "language_info": {
   "codemirror_mode": {
    "name": "ipython",
    "version": 3
   },
   "file_extension": ".py",
   "mimetype": "text/x-python",
   "name": "python",
   "nbconvert_exporter": "python",
   "pygments_lexer": "ipython3",
   "version": "3.10.0"
  }
 },
 "nbformat": 4,
 "nbformat_minor": 5
}
